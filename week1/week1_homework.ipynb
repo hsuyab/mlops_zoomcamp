{
 "cells": [
  {
   "cell_type": "code",
   "execution_count": 74,
   "metadata": {},
   "outputs": [],
   "source": [
    "import pandas as pd\n",
    "import numpy as np\n",
    "import matplotlib.pyplot as plt\n",
    "import seaborn as sns\n",
    "from sklearn.metrics import mean_squared_error as mse\n",
    "from sklearn.linear_model import LinearRegression as LR\n",
    "from sklearn.feature_extraction import DictVectorizer as DV"
   ]
  },
  {
   "cell_type": "markdown",
   "metadata": {},
   "source": [
    "#### Reading in Data"
   ]
  },
  {
   "cell_type": "code",
   "execution_count": 75,
   "metadata": {},
   "outputs": [],
   "source": [
    "df_jan = pd.read_parquet('fhv_tripdata_2021-01.parquet')\n",
    "df_feb = pd.read_parquet('fhv_tripdata_2021-02.parquet')"
   ]
  },
  {
   "cell_type": "markdown",
   "metadata": {},
   "source": [
    "#### Number of records for january"
   ]
  },
  {
   "cell_type": "code",
   "execution_count": 76,
   "metadata": {},
   "outputs": [
    {
     "name": "stdout",
     "output_type": "stream",
     "text": [
      "Number of records in january 1154112\n"
     ]
    }
   ],
   "source": [
    "#number of records for january\n",
    "print(f\"Number of records in january {df_jan.shape[0]}\")"
   ]
  },
  {
   "cell_type": "code",
   "execution_count": 77,
   "metadata": {},
   "outputs": [
    {
     "data": {
      "text/html": [
       "<div>\n",
       "<style scoped>\n",
       "    .dataframe tbody tr th:only-of-type {\n",
       "        vertical-align: middle;\n",
       "    }\n",
       "\n",
       "    .dataframe tbody tr th {\n",
       "        vertical-align: top;\n",
       "    }\n",
       "\n",
       "    .dataframe thead th {\n",
       "        text-align: right;\n",
       "    }\n",
       "</style>\n",
       "<table border=\"1\" class=\"dataframe\">\n",
       "  <thead>\n",
       "    <tr style=\"text-align: right;\">\n",
       "      <th></th>\n",
       "      <th>dispatching_base_num</th>\n",
       "      <th>pickup_datetime</th>\n",
       "      <th>dropOff_datetime</th>\n",
       "      <th>PUlocationID</th>\n",
       "      <th>DOlocationID</th>\n",
       "      <th>SR_Flag</th>\n",
       "      <th>Affiliated_base_number</th>\n",
       "    </tr>\n",
       "  </thead>\n",
       "  <tbody>\n",
       "    <tr>\n",
       "      <th>0</th>\n",
       "      <td>B00009</td>\n",
       "      <td>2021-01-01 00:27:00</td>\n",
       "      <td>2021-01-01 00:44:00</td>\n",
       "      <td>NaN</td>\n",
       "      <td>NaN</td>\n",
       "      <td>None</td>\n",
       "      <td>B00009</td>\n",
       "    </tr>\n",
       "    <tr>\n",
       "      <th>1</th>\n",
       "      <td>B00009</td>\n",
       "      <td>2021-01-01 00:50:00</td>\n",
       "      <td>2021-01-01 01:07:00</td>\n",
       "      <td>NaN</td>\n",
       "      <td>NaN</td>\n",
       "      <td>None</td>\n",
       "      <td>B00009</td>\n",
       "    </tr>\n",
       "    <tr>\n",
       "      <th>2</th>\n",
       "      <td>B00013</td>\n",
       "      <td>2021-01-01 00:01:00</td>\n",
       "      <td>2021-01-01 01:51:00</td>\n",
       "      <td>NaN</td>\n",
       "      <td>NaN</td>\n",
       "      <td>None</td>\n",
       "      <td>B00013</td>\n",
       "    </tr>\n",
       "    <tr>\n",
       "      <th>3</th>\n",
       "      <td>B00037</td>\n",
       "      <td>2021-01-01 00:13:09</td>\n",
       "      <td>2021-01-01 00:21:26</td>\n",
       "      <td>NaN</td>\n",
       "      <td>72.0</td>\n",
       "      <td>None</td>\n",
       "      <td>B00037</td>\n",
       "    </tr>\n",
       "    <tr>\n",
       "      <th>4</th>\n",
       "      <td>B00037</td>\n",
       "      <td>2021-01-01 00:38:31</td>\n",
       "      <td>2021-01-01 00:53:44</td>\n",
       "      <td>NaN</td>\n",
       "      <td>61.0</td>\n",
       "      <td>None</td>\n",
       "      <td>B00037</td>\n",
       "    </tr>\n",
       "  </tbody>\n",
       "</table>\n",
       "</div>"
      ],
      "text/plain": [
       "  dispatching_base_num     pickup_datetime    dropOff_datetime  PUlocationID  \\\n",
       "0               B00009 2021-01-01 00:27:00 2021-01-01 00:44:00           NaN   \n",
       "1               B00009 2021-01-01 00:50:00 2021-01-01 01:07:00           NaN   \n",
       "2               B00013 2021-01-01 00:01:00 2021-01-01 01:51:00           NaN   \n",
       "3               B00037 2021-01-01 00:13:09 2021-01-01 00:21:26           NaN   \n",
       "4               B00037 2021-01-01 00:38:31 2021-01-01 00:53:44           NaN   \n",
       "\n",
       "   DOlocationID SR_Flag Affiliated_base_number  \n",
       "0           NaN    None                 B00009  \n",
       "1           NaN    None                 B00009  \n",
       "2           NaN    None                 B00013  \n",
       "3          72.0    None                 B00037  \n",
       "4          61.0    None                 B00037  "
      ]
     },
     "execution_count": 77,
     "metadata": {},
     "output_type": "execute_result"
    }
   ],
   "source": [
    "df_jan.head()"
   ]
  },
  {
   "cell_type": "code",
   "execution_count": 78,
   "metadata": {},
   "outputs": [
    {
     "name": "stdout",
     "output_type": "stream",
     "text": [
      "<class 'pandas.core.frame.DataFrame'>\n",
      "RangeIndex: 1154112 entries, 0 to 1154111\n",
      "Data columns (total 7 columns):\n",
      " #   Column                  Non-Null Count    Dtype         \n",
      "---  ------                  --------------    -----         \n",
      " 0   dispatching_base_num    1154112 non-null  object        \n",
      " 1   pickup_datetime         1154112 non-null  datetime64[ns]\n",
      " 2   dropOff_datetime        1154112 non-null  datetime64[ns]\n",
      " 3   PUlocationID            195845 non-null   float64       \n",
      " 4   DOlocationID            991892 non-null   float64       \n",
      " 5   SR_Flag                 0 non-null        object        \n",
      " 6   Affiliated_base_number  1153227 non-null  object        \n",
      "dtypes: datetime64[ns](2), float64(2), object(3)\n",
      "memory usage: 61.6+ MB\n"
     ]
    }
   ],
   "source": [
    "df_jan.info()"
   ]
  },
  {
   "cell_type": "markdown",
   "metadata": {},
   "source": [
    "#### Calculate Duration in January"
   ]
  },
  {
   "cell_type": "code",
   "execution_count": 79,
   "metadata": {},
   "outputs": [],
   "source": [
    "#computes the duration of rides in minutes\n",
    "def compute_duration(df):\n",
    "    #computing duration in minutes\n",
    "    df['duration'] = (df['dropOff_datetime'] - df['pickup_datetime']).dt.seconds/(60)\n",
    "    return df"
   ]
  },
  {
   "cell_type": "code",
   "execution_count": 80,
   "metadata": {},
   "outputs": [],
   "source": [
    "#calculate the duration of the trip\n",
    "df_jan = compute_duration(df_jan)\n",
    "df_feb = compute_duration(df_feb)"
   ]
  },
  {
   "cell_type": "code",
   "execution_count": 81,
   "metadata": {},
   "outputs": [
    {
     "name": "stdout",
     "output_type": "stream",
     "text": [
      "Average trip duration in january: 18.61074430673394\n"
     ]
    }
   ],
   "source": [
    "#average trip duration in January\n",
    "print(f\"Average trip duration in january: {df_jan['duration'].mean()}\")"
   ]
  },
  {
   "cell_type": "markdown",
   "metadata": {},
   "source": [
    "#### Data Preparation"
   ]
  },
  {
   "cell_type": "code",
   "execution_count": 87,
   "metadata": {},
   "outputs": [
    {
     "data": {
      "image/png": "[encoded data removed]",
      "text/plain": [
       "<Figure size 432x288 with 1 Axes>"
      ]
     },
     "metadata": {
      "needs_background": "light"
     },
     "output_type": "display_data"
    }
   ],
   "source": [
    "sns.kdeplot(df_jan['duration'], shade=True, label='January')\n",
    "sns.kdeplot(df_feb['duration'], shade=True, label='February')\n",
    "plt.title('Distribution of trip duration before removing outlier')\n",
    "plt.legend(loc='upper right');"
   ]
  },
  {
   "cell_type": "code",
   "execution_count": 83,
   "metadata": {},
   "outputs": [
    {
     "data": {
      "image/png": "[encoded data removed]",
      "text/plain": [
       "<Figure size 432x288 with 1 Axes>"
      ]
     },
     "metadata": {
      "needs_background": "light"
     },
     "output_type": "display_data"
    }
   ],
   "source": [
    "#boxplot for the duration of the trip in January\n",
    "sns.boxplot(x='duration', data=df_jan);"
   ]
  },
  {
   "cell_type": "code",
   "execution_count": 84,
   "metadata": {},
   "outputs": [
    {
     "data": {
      "image/png": "[encoded data removed]",
      "text/plain": [
       "<Figure size 432x288 with 1 Axes>"
      ]
     },
     "metadata": {
      "needs_background": "light"
     },
     "output_type": "display_data"
    }
   ],
   "source": [
    "#boxplot for the duration of the trip in February\n",
    "sns.boxplot(x='duration', data=df_feb);"
   ]
  },
  {
   "cell_type": "code",
   "execution_count": 85,
   "metadata": {},
   "outputs": [],
   "source": [
    "#removing outliers (keeping duration between 1 and 60 minutes)\n",
    "df_jan_clean = df_jan[df_jan['duration'].between(1, 60, inclusive='both')]\n",
    "df_feb_clean = df_feb[df_feb['duration'].between(1, 60, inclusive='both')]"
   ]
  },
  {
   "cell_type": "code",
   "execution_count": 88,
   "metadata": {},
   "outputs": [
    {
     "data": {
      "image/png": "[encoded data removed]",
      "text/plain": [
       "<Figure size 432x288 with 1 Axes>"
      ]
     },
     "metadata": {
      "needs_background": "light"
     },
     "output_type": "display_data"
    }
   ],
   "source": [
    "#kdeplot after removing outliers\n",
    "sns.kdeplot(df_jan_clean['duration'], shade=True, label='January')\n",
    "sns.kdeplot(df_feb_clean['duration'], shade=True, label='February')\n",
    "plt.title('Distribution of trip duration after removing outliers')\n",
    "plt.legend(loc='upper right');"
   ]
  },
  {
   "cell_type": "code",
   "execution_count": 89,
   "metadata": {},
   "outputs": [
    {
     "data": {
      "image/png": "[encoded data removed]",
      "text/plain": [
       "<Figure size 432x288 with 1 Axes>"
      ]
     },
     "metadata": {
      "needs_background": "light"
     },
     "output_type": "display_data"
    }
   ],
   "source": [
    "#boxplot for january after removing outliers\n",
    "sns.boxplot(x='duration', data=df_jan_clean);"
   ]
  },
  {
   "cell_type": "code",
   "execution_count": 90,
   "metadata": {},
   "outputs": [
    {
     "data": {
      "image/png": "[encoded data removed]",
      "text/plain": [
       "<Figure size 432x288 with 1 Axes>"
      ]
     },
     "metadata": {
      "needs_background": "light"
     },
     "output_type": "display_data"
    }
   ],
   "source": [
    "#boxplot for february after removing outliers\n",
    "sns.boxplot(x='duration', data=df_feb_clean);"
   ]
  },
  {
   "cell_type": "code",
   "execution_count": 67,
   "metadata": {},
   "outputs": [
    {
     "name": "stdout",
     "output_type": "stream",
     "text": [
      "Number of records dropped in january: 44259\n",
      "Number of records dropped in february: 47551\n"
     ]
    }
   ],
   "source": [
    "print(f\"Number of records dropped in january: {df_jan.shape[0] - df_jan_clean.shape[0]}\")\n",
    "print(f\"Number of records dropped in february: {df_feb.shape[0] - df_feb_clean.shape[0]}\")"
   ]
  },
  {
   "cell_type": "markdown",
   "metadata": {},
   "source": [
    "#### Missing Values"
   ]
  },
  {
   "cell_type": "code",
   "execution_count": 70,
   "metadata": {},
   "outputs": [
    {
     "data": {
      "text/plain": [
       "dispatching_base_num            0\n",
       "pickup_datetime                 0\n",
       "dropOff_datetime                0\n",
       "PUlocationID               927033\n",
       "DOlocationID               147927\n",
       "SR_Flag                   1109853\n",
       "Affiliated_base_number        773\n",
       "duration                        0\n",
       "dtype: int64"
      ]
     },
     "execution_count": 70,
     "metadata": {},
     "output_type": "execute_result"
    }
   ],
   "source": [
    "#checking missing values for january\n",
    "df_jan_clean.isna().sum()"
   ]
  },
  {
   "cell_type": "code",
   "execution_count": 71,
   "metadata": {},
   "outputs": [
    {
     "data": {
      "text/plain": [
       "dispatching_base_num           0\n",
       "pickup_datetime                0\n",
       "dropOff_datetime               0\n",
       "PUlocationID              848679\n",
       "DOlocationID              134774\n",
       "SR_Flag                   990141\n",
       "Affiliated_base_number         0\n",
       "duration                       0\n",
       "dtype: int64"
      ]
     },
     "execution_count": 71,
     "metadata": {},
     "output_type": "execute_result"
    }
   ],
   "source": [
    "#checkign missing values for february\n",
    "df_feb_clean.isna().sum()"
   ]
  },
  {
   "cell_type": "code",
   "execution_count": 91,
   "metadata": {},
   "outputs": [],
   "source": [
    "#replace missing values with '-1'\n",
    "df_jan_clean = df_jan_clean.fillna(-1).copy()\n",
    "df_feb_clean = df_feb_clean.fillna(-1).copy()"
   ]
  },
  {
   "cell_type": "code",
   "execution_count": 94,
   "metadata": {},
   "outputs": [
    {
     "data": {
      "text/plain": [
       "dispatching_base_num      0\n",
       "pickup_datetime           0\n",
       "dropOff_datetime          0\n",
       "PUlocationID              0\n",
       "DOlocationID              0\n",
       "SR_Flag                   0\n",
       "Affiliated_base_number    0\n",
       "duration                  0\n",
       "dtype: int64"
      ]
     },
     "execution_count": 94,
     "metadata": {},
     "output_type": "execute_result"
    }
   ],
   "source": [
    "df_jan_clean.isna().sum()"
   ]
  },
  {
   "cell_type": "code",
   "execution_count": 95,
   "metadata": {},
   "outputs": [
    {
     "data": {
      "text/plain": [
       "dispatching_base_num      0\n",
       "pickup_datetime           0\n",
       "dropOff_datetime          0\n",
       "PUlocationID              0\n",
       "DOlocationID              0\n",
       "SR_Flag                   0\n",
       "Affiliated_base_number    0\n",
       "duration                  0\n",
       "dtype: int64"
      ]
     },
     "execution_count": 95,
     "metadata": {},
     "output_type": "execute_result"
    }
   ],
   "source": [
    "df_feb_clean.isna().sum()"
   ]
  },
  {
   "cell_type": "code",
   "execution_count": 105,
   "metadata": {},
   "outputs": [
    {
     "data": {
      "text/plain": [
       "0.835275482428754"
      ]
     },
     "execution_count": 105,
     "metadata": {},
     "output_type": "execute_result"
    }
   ],
   "source": [
    "#fraction of missing values for pickup location ID\n",
    "(df_jan_clean['PUlocationID']==-1).sum()/(df_jan_clean['PUlocationID'].shape[0])"
   ]
  },
  {
   "cell_type": "markdown",
   "metadata": {},
   "source": [
    "#### One-Hot Encoding"
   ]
  },
  {
   "cell_type": "code",
   "execution_count": 109,
   "metadata": {},
   "outputs": [],
   "source": [
    "#selecting the pickup location ID and dropoff location ID as features\n",
    "categorical_features = ['PUlocationID', 'DOlocationID']"
   ]
  },
  {
   "cell_type": "code",
   "execution_count": 110,
   "metadata": {},
   "outputs": [
    {
     "name": "stdout",
     "output_type": "stream",
     "text": [
      "<class 'pandas.core.frame.DataFrame'>\n",
      "Int64Index: 1109853 entries, 0 to 1154111\n",
      "Data columns (total 2 columns):\n",
      " #   Column        Non-Null Count    Dtype  \n",
      "---  ------        --------------    -----  \n",
      " 0   PUlocationID  1109853 non-null  float64\n",
      " 1   DOlocationID  1109853 non-null  float64\n",
      "dtypes: float64(2)\n",
      "memory usage: 25.4 MB\n"
     ]
    }
   ],
   "source": [
    "df_jan_clean[categorical_features].info()"
   ]
  },
  {
   "cell_type": "code",
   "execution_count": 119,
   "metadata": {},
   "outputs": [],
   "source": [
    "#converting pickup location ID and dropoff location ID data types to string from float\n",
    "X_train_df = df_jan_clean[categorical_features].astype(str)\n",
    "y_train = df_jan_clean['duration']\n",
    "X_test_df = df_feb_clean[categorical_features].astype(str)\n",
    "y_test = df_feb_clean['duration']"
   ]
  },
  {
   "cell_type": "code",
   "execution_count": 120,
   "metadata": {},
   "outputs": [],
   "source": [
    "#turn dataframes to list of dictionaries\n",
    "X_train_dict = X_train_df.to_dict(orient='records')\n",
    "X_test_dict = X_test_df.to_dict(orient='records')"
   ]
  },
  {
   "cell_type": "code",
   "execution_count": 121,
   "metadata": {},
   "outputs": [],
   "source": [
    "#fit a dictionary vectorizer\n",
    "vec = DV()\n",
    "X_train = vec.fit_transform(X_train_dict)"
   ]
  },
  {
   "cell_type": "code",
   "execution_count": 124,
   "metadata": {},
   "outputs": [
    {
     "data": {
      "text/plain": [
       "['DOlocationID=-1.0',\n",
       " 'DOlocationID=1.0',\n",
       " 'DOlocationID=10.0',\n",
       " 'DOlocationID=100.0',\n",
       " 'DOlocationID=101.0',\n",
       " 'DOlocationID=102.0',\n",
       " 'DOlocationID=105.0',\n",
       " 'DOlocationID=106.0',\n",
       " 'DOlocationID=107.0',\n",
       " 'DOlocationID=108.0',\n",
       " 'DOlocationID=109.0',\n",
       " 'DOlocationID=11.0',\n",
       " 'DOlocationID=111.0',\n",
       " 'DOlocationID=112.0',\n",
       " 'DOlocationID=113.0',\n",
       " 'DOlocationID=114.0',\n",
       " 'DOlocationID=115.0',\n",
       " 'DOlocationID=116.0',\n",
       " 'DOlocationID=117.0',\n",
       " 'DOlocationID=118.0',\n",
       " 'DOlocationID=119.0',\n",
       " 'DOlocationID=12.0',\n",
       " 'DOlocationID=120.0',\n",
       " 'DOlocationID=121.0',\n",
       " 'DOlocationID=122.0',\n",
       " 'DOlocationID=123.0',\n",
       " 'DOlocationID=124.0',\n",
       " 'DOlocationID=125.0',\n",
       " 'DOlocationID=126.0',\n",
       " 'DOlocationID=127.0',\n",
       " 'DOlocationID=128.0',\n",
       " 'DOlocationID=129.0',\n",
       " 'DOlocationID=13.0',\n",
       " 'DOlocationID=130.0',\n",
       " 'DOlocationID=131.0',\n",
       " 'DOlocationID=132.0',\n",
       " 'DOlocationID=133.0',\n",
       " 'DOlocationID=134.0',\n",
       " 'DOlocationID=135.0',\n",
       " 'DOlocationID=136.0',\n",
       " 'DOlocationID=137.0',\n",
       " 'DOlocationID=138.0',\n",
       " 'DOlocationID=139.0',\n",
       " 'DOlocationID=14.0',\n",
       " 'DOlocationID=140.0',\n",
       " 'DOlocationID=141.0',\n",
       " 'DOlocationID=142.0',\n",
       " 'DOlocationID=143.0',\n",
       " 'DOlocationID=144.0',\n",
       " 'DOlocationID=145.0',\n",
       " 'DOlocationID=146.0',\n",
       " 'DOlocationID=147.0',\n",
       " 'DOlocationID=148.0',\n",
       " 'DOlocationID=149.0',\n",
       " 'DOlocationID=15.0',\n",
       " 'DOlocationID=150.0',\n",
       " 'DOlocationID=151.0',\n",
       " 'DOlocationID=152.0',\n",
       " 'DOlocationID=153.0',\n",
       " 'DOlocationID=154.0',\n",
       " 'DOlocationID=155.0',\n",
       " 'DOlocationID=156.0',\n",
       " 'DOlocationID=157.0',\n",
       " 'DOlocationID=158.0',\n",
       " 'DOlocationID=159.0',\n",
       " 'DOlocationID=16.0',\n",
       " 'DOlocationID=160.0',\n",
       " 'DOlocationID=161.0',\n",
       " 'DOlocationID=162.0',\n",
       " 'DOlocationID=163.0',\n",
       " 'DOlocationID=164.0',\n",
       " 'DOlocationID=165.0',\n",
       " 'DOlocationID=166.0',\n",
       " 'DOlocationID=167.0',\n",
       " 'DOlocationID=168.0',\n",
       " 'DOlocationID=169.0',\n",
       " 'DOlocationID=17.0',\n",
       " 'DOlocationID=170.0',\n",
       " 'DOlocationID=171.0',\n",
       " 'DOlocationID=172.0',\n",
       " 'DOlocationID=173.0',\n",
       " 'DOlocationID=174.0',\n",
       " 'DOlocationID=175.0',\n",
       " 'DOlocationID=176.0',\n",
       " 'DOlocationID=177.0',\n",
       " 'DOlocationID=178.0',\n",
       " 'DOlocationID=179.0',\n",
       " 'DOlocationID=18.0',\n",
       " 'DOlocationID=180.0',\n",
       " 'DOlocationID=181.0',\n",
       " 'DOlocationID=182.0',\n",
       " 'DOlocationID=183.0',\n",
       " 'DOlocationID=184.0',\n",
       " 'DOlocationID=185.0',\n",
       " 'DOlocationID=186.0',\n",
       " 'DOlocationID=187.0',\n",
       " 'DOlocationID=188.0',\n",
       " 'DOlocationID=189.0',\n",
       " 'DOlocationID=19.0',\n",
       " 'DOlocationID=190.0',\n",
       " 'DOlocationID=191.0',\n",
       " 'DOlocationID=192.0',\n",
       " 'DOlocationID=193.0',\n",
       " 'DOlocationID=194.0',\n",
       " 'DOlocationID=195.0',\n",
       " 'DOlocationID=196.0',\n",
       " 'DOlocationID=197.0',\n",
       " 'DOlocationID=198.0',\n",
       " 'DOlocationID=199.0',\n",
       " 'DOlocationID=2.0',\n",
       " 'DOlocationID=20.0',\n",
       " 'DOlocationID=200.0',\n",
       " 'DOlocationID=201.0',\n",
       " 'DOlocationID=202.0',\n",
       " 'DOlocationID=203.0',\n",
       " 'DOlocationID=204.0',\n",
       " 'DOlocationID=205.0',\n",
       " 'DOlocationID=206.0',\n",
       " 'DOlocationID=207.0',\n",
       " 'DOlocationID=208.0',\n",
       " 'DOlocationID=209.0',\n",
       " 'DOlocationID=21.0',\n",
       " 'DOlocationID=210.0',\n",
       " 'DOlocationID=211.0',\n",
       " 'DOlocationID=212.0',\n",
       " 'DOlocationID=213.0',\n",
       " 'DOlocationID=214.0',\n",
       " 'DOlocationID=215.0',\n",
       " 'DOlocationID=216.0',\n",
       " 'DOlocationID=217.0',\n",
       " 'DOlocationID=218.0',\n",
       " 'DOlocationID=219.0',\n",
       " 'DOlocationID=22.0',\n",
       " 'DOlocationID=220.0',\n",
       " 'DOlocationID=221.0',\n",
       " 'DOlocationID=222.0',\n",
       " 'DOlocationID=223.0',\n",
       " 'DOlocationID=224.0',\n",
       " 'DOlocationID=225.0',\n",
       " 'DOlocationID=226.0',\n",
       " 'DOlocationID=227.0',\n",
       " 'DOlocationID=228.0',\n",
       " 'DOlocationID=229.0',\n",
       " 'DOlocationID=23.0',\n",
       " 'DOlocationID=230.0',\n",
       " 'DOlocationID=231.0',\n",
       " 'DOlocationID=232.0',\n",
       " 'DOlocationID=233.0',\n",
       " 'DOlocationID=234.0',\n",
       " 'DOlocationID=235.0',\n",
       " 'DOlocationID=236.0',\n",
       " 'DOlocationID=237.0',\n",
       " 'DOlocationID=238.0',\n",
       " 'DOlocationID=239.0',\n",
       " 'DOlocationID=24.0',\n",
       " 'DOlocationID=240.0',\n",
       " 'DOlocationID=241.0',\n",
       " 'DOlocationID=242.0',\n",
       " 'DOlocationID=243.0',\n",
       " 'DOlocationID=244.0',\n",
       " 'DOlocationID=245.0',\n",
       " 'DOlocationID=246.0',\n",
       " 'DOlocationID=247.0',\n",
       " 'DOlocationID=248.0',\n",
       " 'DOlocationID=249.0',\n",
       " 'DOlocationID=25.0',\n",
       " 'DOlocationID=250.0',\n",
       " 'DOlocationID=251.0',\n",
       " 'DOlocationID=252.0',\n",
       " 'DOlocationID=253.0',\n",
       " 'DOlocationID=254.0',\n",
       " 'DOlocationID=255.0',\n",
       " 'DOlocationID=256.0',\n",
       " 'DOlocationID=257.0',\n",
       " 'DOlocationID=258.0',\n",
       " 'DOlocationID=259.0',\n",
       " 'DOlocationID=26.0',\n",
       " 'DOlocationID=260.0',\n",
       " 'DOlocationID=261.0',\n",
       " 'DOlocationID=262.0',\n",
       " 'DOlocationID=263.0',\n",
       " 'DOlocationID=264.0',\n",
       " 'DOlocationID=265.0',\n",
       " 'DOlocationID=27.0',\n",
       " 'DOlocationID=28.0',\n",
       " 'DOlocationID=29.0',\n",
       " 'DOlocationID=3.0',\n",
       " 'DOlocationID=30.0',\n",
       " 'DOlocationID=31.0',\n",
       " 'DOlocationID=32.0',\n",
       " 'DOlocationID=33.0',\n",
       " 'DOlocationID=34.0',\n",
       " 'DOlocationID=35.0',\n",
       " 'DOlocationID=36.0',\n",
       " 'DOlocationID=37.0',\n",
       " 'DOlocationID=38.0',\n",
       " 'DOlocationID=39.0',\n",
       " 'DOlocationID=4.0',\n",
       " 'DOlocationID=40.0',\n",
       " 'DOlocationID=41.0',\n",
       " 'DOlocationID=42.0',\n",
       " 'DOlocationID=43.0',\n",
       " 'DOlocationID=44.0',\n",
       " 'DOlocationID=45.0',\n",
       " 'DOlocationID=46.0',\n",
       " 'DOlocationID=47.0',\n",
       " 'DOlocationID=48.0',\n",
       " 'DOlocationID=49.0',\n",
       " 'DOlocationID=5.0',\n",
       " 'DOlocationID=50.0',\n",
       " 'DOlocationID=51.0',\n",
       " 'DOlocationID=52.0',\n",
       " 'DOlocationID=53.0',\n",
       " 'DOlocationID=54.0',\n",
       " 'DOlocationID=55.0',\n",
       " 'DOlocationID=56.0',\n",
       " 'DOlocationID=57.0',\n",
       " 'DOlocationID=58.0',\n",
       " 'DOlocationID=59.0',\n",
       " 'DOlocationID=6.0',\n",
       " 'DOlocationID=60.0',\n",
       " 'DOlocationID=61.0',\n",
       " 'DOlocationID=62.0',\n",
       " 'DOlocationID=63.0',\n",
       " 'DOlocationID=64.0',\n",
       " 'DOlocationID=65.0',\n",
       " 'DOlocationID=66.0',\n",
       " 'DOlocationID=67.0',\n",
       " 'DOlocationID=68.0',\n",
       " 'DOlocationID=69.0',\n",
       " 'DOlocationID=7.0',\n",
       " 'DOlocationID=70.0',\n",
       " 'DOlocationID=71.0',\n",
       " 'DOlocationID=72.0',\n",
       " 'DOlocationID=73.0',\n",
       " 'DOlocationID=74.0',\n",
       " 'DOlocationID=75.0',\n",
       " 'DOlocationID=76.0',\n",
       " 'DOlocationID=77.0',\n",
       " 'DOlocationID=78.0',\n",
       " 'DOlocationID=79.0',\n",
       " 'DOlocationID=8.0',\n",
       " 'DOlocationID=80.0',\n",
       " 'DOlocationID=81.0',\n",
       " 'DOlocationID=82.0',\n",
       " 'DOlocationID=83.0',\n",
       " 'DOlocationID=84.0',\n",
       " 'DOlocationID=85.0',\n",
       " 'DOlocationID=86.0',\n",
       " 'DOlocationID=87.0',\n",
       " 'DOlocationID=88.0',\n",
       " 'DOlocationID=89.0',\n",
       " 'DOlocationID=9.0',\n",
       " 'DOlocationID=90.0',\n",
       " 'DOlocationID=91.0',\n",
       " 'DOlocationID=92.0',\n",
       " 'DOlocationID=93.0',\n",
       " 'DOlocationID=94.0',\n",
       " 'DOlocationID=95.0',\n",
       " 'DOlocationID=96.0',\n",
       " 'DOlocationID=97.0',\n",
       " 'DOlocationID=98.0',\n",
       " 'DOlocationID=99.0',\n",
       " 'PUlocationID=-1.0',\n",
       " 'PUlocationID=1.0',\n",
       " 'PUlocationID=10.0',\n",
       " 'PUlocationID=100.0',\n",
       " 'PUlocationID=101.0',\n",
       " 'PUlocationID=102.0',\n",
       " 'PUlocationID=106.0',\n",
       " 'PUlocationID=107.0',\n",
       " 'PUlocationID=108.0',\n",
       " 'PUlocationID=109.0',\n",
       " 'PUlocationID=11.0',\n",
       " 'PUlocationID=110.0',\n",
       " 'PUlocationID=111.0',\n",
       " 'PUlocationID=112.0',\n",
       " 'PUlocationID=113.0',\n",
       " 'PUlocationID=114.0',\n",
       " 'PUlocationID=115.0',\n",
       " 'PUlocationID=116.0',\n",
       " 'PUlocationID=117.0',\n",
       " 'PUlocationID=118.0',\n",
       " 'PUlocationID=119.0',\n",
       " 'PUlocationID=12.0',\n",
       " 'PUlocationID=120.0',\n",
       " 'PUlocationID=121.0',\n",
       " 'PUlocationID=122.0',\n",
       " 'PUlocationID=123.0',\n",
       " 'PUlocationID=124.0',\n",
       " 'PUlocationID=125.0',\n",
       " 'PUlocationID=126.0',\n",
       " 'PUlocationID=127.0',\n",
       " 'PUlocationID=128.0',\n",
       " 'PUlocationID=129.0',\n",
       " 'PUlocationID=13.0',\n",
       " 'PUlocationID=130.0',\n",
       " 'PUlocationID=131.0',\n",
       " 'PUlocationID=132.0',\n",
       " 'PUlocationID=133.0',\n",
       " 'PUlocationID=134.0',\n",
       " 'PUlocationID=135.0',\n",
       " 'PUlocationID=136.0',\n",
       " 'PUlocationID=137.0',\n",
       " 'PUlocationID=138.0',\n",
       " 'PUlocationID=139.0',\n",
       " 'PUlocationID=14.0',\n",
       " 'PUlocationID=140.0',\n",
       " 'PUlocationID=141.0',\n",
       " 'PUlocationID=142.0',\n",
       " 'PUlocationID=143.0',\n",
       " 'PUlocationID=144.0',\n",
       " 'PUlocationID=145.0',\n",
       " 'PUlocationID=146.0',\n",
       " 'PUlocationID=147.0',\n",
       " 'PUlocationID=148.0',\n",
       " 'PUlocationID=149.0',\n",
       " 'PUlocationID=15.0',\n",
       " 'PUlocationID=150.0',\n",
       " 'PUlocationID=151.0',\n",
       " 'PUlocationID=152.0',\n",
       " 'PUlocationID=153.0',\n",
       " 'PUlocationID=154.0',\n",
       " 'PUlocationID=155.0',\n",
       " 'PUlocationID=156.0',\n",
       " 'PUlocationID=157.0',\n",
       " 'PUlocationID=158.0',\n",
       " 'PUlocationID=159.0',\n",
       " 'PUlocationID=16.0',\n",
       " 'PUlocationID=160.0',\n",
       " 'PUlocationID=161.0',\n",
       " 'PUlocationID=162.0',\n",
       " 'PUlocationID=163.0',\n",
       " 'PUlocationID=164.0',\n",
       " 'PUlocationID=165.0',\n",
       " 'PUlocationID=166.0',\n",
       " 'PUlocationID=167.0',\n",
       " 'PUlocationID=168.0',\n",
       " 'PUlocationID=169.0',\n",
       " 'PUlocationID=17.0',\n",
       " 'PUlocationID=170.0',\n",
       " 'PUlocationID=171.0',\n",
       " 'PUlocationID=172.0',\n",
       " 'PUlocationID=173.0',\n",
       " 'PUlocationID=174.0',\n",
       " 'PUlocationID=175.0',\n",
       " 'PUlocationID=176.0',\n",
       " 'PUlocationID=177.0',\n",
       " 'PUlocationID=178.0',\n",
       " 'PUlocationID=179.0',\n",
       " 'PUlocationID=18.0',\n",
       " 'PUlocationID=180.0',\n",
       " 'PUlocationID=181.0',\n",
       " 'PUlocationID=182.0',\n",
       " 'PUlocationID=183.0',\n",
       " 'PUlocationID=184.0',\n",
       " 'PUlocationID=185.0',\n",
       " 'PUlocationID=186.0',\n",
       " 'PUlocationID=187.0',\n",
       " 'PUlocationID=188.0',\n",
       " 'PUlocationID=189.0',\n",
       " 'PUlocationID=19.0',\n",
       " 'PUlocationID=190.0',\n",
       " 'PUlocationID=191.0',\n",
       " 'PUlocationID=192.0',\n",
       " 'PUlocationID=193.0',\n",
       " 'PUlocationID=194.0',\n",
       " 'PUlocationID=195.0',\n",
       " 'PUlocationID=196.0',\n",
       " 'PUlocationID=197.0',\n",
       " 'PUlocationID=198.0',\n",
       " 'PUlocationID=2.0',\n",
       " 'PUlocationID=20.0',\n",
       " 'PUlocationID=200.0',\n",
       " 'PUlocationID=201.0',\n",
       " 'PUlocationID=202.0',\n",
       " 'PUlocationID=203.0',\n",
       " 'PUlocationID=204.0',\n",
       " 'PUlocationID=205.0',\n",
       " 'PUlocationID=206.0',\n",
       " 'PUlocationID=207.0',\n",
       " 'PUlocationID=208.0',\n",
       " 'PUlocationID=209.0',\n",
       " 'PUlocationID=21.0',\n",
       " 'PUlocationID=210.0',\n",
       " 'PUlocationID=211.0',\n",
       " 'PUlocationID=212.0',\n",
       " 'PUlocationID=213.0',\n",
       " 'PUlocationID=214.0',\n",
       " 'PUlocationID=215.0',\n",
       " 'PUlocationID=216.0',\n",
       " 'PUlocationID=217.0',\n",
       " 'PUlocationID=218.0',\n",
       " 'PUlocationID=219.0',\n",
       " 'PUlocationID=22.0',\n",
       " 'PUlocationID=220.0',\n",
       " 'PUlocationID=221.0',\n",
       " 'PUlocationID=222.0',\n",
       " 'PUlocationID=223.0',\n",
       " 'PUlocationID=224.0',\n",
       " 'PUlocationID=225.0',\n",
       " 'PUlocationID=226.0',\n",
       " 'PUlocationID=227.0',\n",
       " 'PUlocationID=228.0',\n",
       " 'PUlocationID=229.0',\n",
       " 'PUlocationID=23.0',\n",
       " 'PUlocationID=230.0',\n",
       " 'PUlocationID=231.0',\n",
       " 'PUlocationID=232.0',\n",
       " 'PUlocationID=233.0',\n",
       " 'PUlocationID=234.0',\n",
       " 'PUlocationID=235.0',\n",
       " 'PUlocationID=236.0',\n",
       " 'PUlocationID=237.0',\n",
       " 'PUlocationID=238.0',\n",
       " 'PUlocationID=239.0',\n",
       " 'PUlocationID=24.0',\n",
       " 'PUlocationID=240.0',\n",
       " 'PUlocationID=241.0',\n",
       " 'PUlocationID=242.0',\n",
       " 'PUlocationID=243.0',\n",
       " 'PUlocationID=244.0',\n",
       " 'PUlocationID=245.0',\n",
       " 'PUlocationID=246.0',\n",
       " 'PUlocationID=247.0',\n",
       " 'PUlocationID=248.0',\n",
       " 'PUlocationID=249.0',\n",
       " 'PUlocationID=25.0',\n",
       " 'PUlocationID=250.0',\n",
       " 'PUlocationID=251.0',\n",
       " 'PUlocationID=252.0',\n",
       " 'PUlocationID=253.0',\n",
       " 'PUlocationID=254.0',\n",
       " 'PUlocationID=255.0',\n",
       " 'PUlocationID=256.0',\n",
       " 'PUlocationID=257.0',\n",
       " 'PUlocationID=258.0',\n",
       " 'PUlocationID=259.0',\n",
       " 'PUlocationID=26.0',\n",
       " 'PUlocationID=260.0',\n",
       " 'PUlocationID=261.0',\n",
       " 'PUlocationID=262.0',\n",
       " 'PUlocationID=263.0',\n",
       " 'PUlocationID=264.0',\n",
       " 'PUlocationID=265.0',\n",
       " 'PUlocationID=27.0',\n",
       " 'PUlocationID=28.0',\n",
       " 'PUlocationID=29.0',\n",
       " 'PUlocationID=3.0',\n",
       " 'PUlocationID=30.0',\n",
       " 'PUlocationID=31.0',\n",
       " 'PUlocationID=32.0',\n",
       " 'PUlocationID=33.0',\n",
       " 'PUlocationID=34.0',\n",
       " 'PUlocationID=35.0',\n",
       " 'PUlocationID=36.0',\n",
       " 'PUlocationID=37.0',\n",
       " 'PUlocationID=38.0',\n",
       " 'PUlocationID=39.0',\n",
       " 'PUlocationID=4.0',\n",
       " 'PUlocationID=40.0',\n",
       " 'PUlocationID=41.0',\n",
       " 'PUlocationID=42.0',\n",
       " 'PUlocationID=43.0',\n",
       " 'PUlocationID=44.0',\n",
       " 'PUlocationID=45.0',\n",
       " 'PUlocationID=46.0',\n",
       " 'PUlocationID=47.0',\n",
       " 'PUlocationID=48.0',\n",
       " 'PUlocationID=49.0',\n",
       " 'PUlocationID=5.0',\n",
       " 'PUlocationID=50.0',\n",
       " 'PUlocationID=51.0',\n",
       " 'PUlocationID=52.0',\n",
       " 'PUlocationID=53.0',\n",
       " 'PUlocationID=54.0',\n",
       " 'PUlocationID=55.0',\n",
       " 'PUlocationID=56.0',\n",
       " 'PUlocationID=57.0',\n",
       " 'PUlocationID=58.0',\n",
       " 'PUlocationID=59.0',\n",
       " 'PUlocationID=6.0',\n",
       " 'PUlocationID=60.0',\n",
       " 'PUlocationID=61.0',\n",
       " 'PUlocationID=62.0',\n",
       " 'PUlocationID=63.0',\n",
       " 'PUlocationID=64.0',\n",
       " 'PUlocationID=65.0',\n",
       " 'PUlocationID=66.0',\n",
       " 'PUlocationID=67.0',\n",
       " 'PUlocationID=68.0',\n",
       " 'PUlocationID=69.0',\n",
       " 'PUlocationID=7.0',\n",
       " 'PUlocationID=70.0',\n",
       " 'PUlocationID=71.0',\n",
       " 'PUlocationID=72.0',\n",
       " 'PUlocationID=73.0',\n",
       " 'PUlocationID=74.0',\n",
       " 'PUlocationID=75.0',\n",
       " 'PUlocationID=76.0',\n",
       " 'PUlocationID=77.0',\n",
       " 'PUlocationID=78.0',\n",
       " 'PUlocationID=79.0',\n",
       " 'PUlocationID=8.0',\n",
       " 'PUlocationID=80.0',\n",
       " 'PUlocationID=81.0',\n",
       " 'PUlocationID=82.0',\n",
       " 'PUlocationID=83.0',\n",
       " 'PUlocationID=84.0',\n",
       " 'PUlocationID=85.0',\n",
       " 'PUlocationID=86.0',\n",
       " 'PUlocationID=87.0',\n",
       " 'PUlocationID=88.0',\n",
       " 'PUlocationID=89.0',\n",
       " 'PUlocationID=9.0',\n",
       " 'PUlocationID=90.0',\n",
       " 'PUlocationID=91.0',\n",
       " 'PUlocationID=92.0',\n",
       " 'PUlocationID=93.0',\n",
       " 'PUlocationID=94.0',\n",
       " 'PUlocationID=95.0',\n",
       " 'PUlocationID=96.0',\n",
       " 'PUlocationID=97.0',\n",
       " 'PUlocationID=98.0',\n",
       " 'PUlocationID=99.0']"
      ]
     },
     "execution_count": 124,
     "metadata": {},
     "output_type": "execute_result"
    }
   ],
   "source": [
    "#getting the feature names\n",
    "vec.feature_names_"
   ]
  },
  {
   "cell_type": "code",
   "execution_count": 126,
   "metadata": {},
   "outputs": [
    {
     "data": {
      "text/plain": [
       "<1109853x525 sparse matrix of type '<class 'numpy.float64'>'\n",
       "\twith 2219706 stored elements in Compressed Sparse Row format>"
      ]
     },
     "execution_count": 126,
     "metadata": {},
     "output_type": "execute_result"
    }
   ],
   "source": [
    "X_train"
   ]
  },
  {
   "cell_type": "markdown",
   "metadata": {},
   "source": [
    "- So `X_train` is 1109835 x 525 matrix\n",
    "- So it's dimensionality os **525**"
   ]
  },
  {
   "cell_type": "markdown",
   "metadata": {},
   "source": [
    "#### Modeling"
   ]
  },
  {
   "cell_type": "code",
   "execution_count": 127,
   "metadata": {},
   "outputs": [
    {
     "data": {
      "text/plain": [
       "LinearRegression()"
      ]
     },
     "execution_count": 127,
     "metadata": {},
     "output_type": "execute_result"
    }
   ],
   "source": [
    "##fit a linear regression model\n",
    "reg = LR()\n",
    "reg.fit(X_train, y_train)"
   ]
  },
  {
   "cell_type": "code",
   "execution_count": 128,
   "metadata": {},
   "outputs": [
    {
     "data": {
      "text/plain": [
       "10.528643549679181"
      ]
     },
     "execution_count": 128,
     "metadata": {},
     "output_type": "execute_result"
    }
   ],
   "source": [
    "#rmse on the training set\n",
    "mse(y_train, reg.predict(X_train), squared=False)"
   ]
  },
  {
   "cell_type": "code",
   "execution_count": 131,
   "metadata": {},
   "outputs": [
    {
     "data": {
      "text/plain": [
       "11.014592273737696"
      ]
     },
     "execution_count": 131,
     "metadata": {},
     "output_type": "execute_result"
    }
   ],
   "source": [
    "#evaluate the model on the test set\n",
    "#creating test set from X_test_dict\n",
    "X_test = vec.transform(X_test_dict)\n",
    "#calculating rmse on the test set\n",
    "mse(y_test, reg.predict(X_test), squared=False)"
   ]
  },
  {
   "cell_type": "code",
   "execution_count": null,
   "metadata": {},
   "outputs": [],
   "source": []
  }
 ],
 "metadata": {
  "kernelspec": {
   "display_name": "Python 3.8.12 ('kaggle1')",
   "language": "python",
   "name": "python3"
  },
  "language_info": {
   "codemirror_mode": {
    "name": "ipython",
    "version": 3
   },
   "file_extension": ".py",
   "mimetype": "text/x-python",
   "name": "python",
   "nbconvert_exporter": "python",
   "pygments_lexer": "ipython3",
   "version": "3.8.12"
  },
  "orig_nbformat": 4,
  "vscode": {
   "interpreter": {
    "hash": "b741578c5be26b913d181e27dc1bfd0fd9db1f2124f7c7a05e52221d3a084966"
   }
  }
 },
 "nbformat": 4,
 "nbformat_minor": 2
}
