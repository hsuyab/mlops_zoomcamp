{
 "cells": [
  {
   "cell_type": "code",
   "execution_count": 1,
   "metadata": {},
   "outputs": [],
   "source": [
    "import mlflow\n",
    "import os\n",
    "import pickle"
   ]
  },
  {
   "cell_type": "code",
   "execution_count": 2,
   "metadata": {},
   "outputs": [
    {
     "data": {
      "text/plain": [
       "<Experiment: artifact_location='/Users/hsuyab/Documents/programming/work_related/mlops_zoomcap/week2_new/artifact/1', experiment_id='1', lifecycle_stage='active', name='nyc-taxi-regression-assignment', tags={}>"
      ]
     },
     "execution_count": 2,
     "metadata": {},
     "output_type": "execute_result"
    }
   ],
   "source": [
    "\n",
    "mlflow.set_tracking_uri('http://127.0.0.1:5000')\n",
    "mlflow.set_experiment(\"nyc-taxi-regression-assignment\")"
   ]
  },
  {
   "cell_type": "markdown",
   "metadata": {},
   "source": [
    "## Question1: mlflow version"
   ]
  },
  {
   "cell_type": "code",
   "execution_count": 3,
   "metadata": {},
   "outputs": [
    {
     "name": "stdout",
     "output_type": "stream",
     "text": [
      "mlflow verion: 1.26.1\n"
     ]
    }
   ],
   "source": [
    "print('mlflow verion:', mlflow.__version__)"
   ]
  },
  {
   "cell_type": "markdown",
   "metadata": {},
   "source": [
    "## Question2: Download and preprocess the data"
   ]
  },
  {
   "cell_type": "markdown",
   "metadata": {},
   "source": [
    "#### Preprocessing the data"
   ]
  },
  {
   "cell_type": "code",
   "execution_count": 4,
   "metadata": {},
   "outputs": [],
   "source": [
    "!python preprocess_data.py --raw_data_path ./data --dest_path ./output\n"
   ]
  },
  {
   "cell_type": "code",
   "execution_count": 5,
   "metadata": {},
   "outputs": [
    {
     "name": "stdout",
     "output_type": "stream",
     "text": [
      "total 18328\n",
      "-rw-r--r--  1 hsuyab  staff   305256 Jun  2 23:14 dv.pkl\n",
      "-rw-r--r--  1 hsuyab  staff  2805197 Jun  2 23:14 test.pkl\n",
      "-rw-r--r--  1 hsuyab  staff  2661149 Jun  2 23:14 train.pkl\n",
      "-rw-r--r--  1 hsuyab  staff  2166527 Jun  2 23:14 valid.pkl\n"
     ]
    }
   ],
   "source": [
    "!ls -l ./output"
   ]
  },
  {
   "cell_type": "code",
   "execution_count": 6,
   "metadata": {},
   "outputs": [
    {
     "name": "stdout",
     "output_type": "stream",
     "text": [
      "Number of files saved in output folder: 4\n"
     ]
    }
   ],
   "source": [
    "print('Number of files saved in output folder:', len(os.listdir('./output')))"
   ]
  },
  {
   "cell_type": "markdown",
   "metadata": {},
   "source": [
    "### Training a model with autolog"
   ]
  },
  {
   "cell_type": "code",
   "execution_count": 33,
   "metadata": {},
   "outputs": [
    {
     "name": "stdout",
     "output_type": "stream",
     "text": [
      "2022/06/02 23:31:58 INFO mlflow.tracking.fluent: Experiment with name 'nyc-taxi-regression-assignment' does not exist. Creating a new experiment.\n",
      "2022/06/02 23:32:12 WARNING mlflow.utils.autologging_utils: MLflow autologging encountered a warning: \"/Users/hsuyab/miniconda3/envs/mlops/lib/python3.8/site-packages/_distutils_hack/__init__.py:30: UserWarning: Setuptools is replacing distutils.\"\n"
     ]
    }
   ],
   "source": [
    "!python train.py"
   ]
  },
  {
   "cell_type": "markdown",
   "metadata": {},
   "source": [
    "### Run hpo"
   ]
  },
  {
   "cell_type": "code",
   "execution_count": 8,
   "metadata": {},
   "outputs": [
    {
     "name": "stdout",
     "output_type": "stream",
     "text": [
      "100%|█████████| 50/50 [05:02<00:00,  6.06s/trial, best loss: 6.6284257482044735]\n"
     ]
    }
   ],
   "source": [
    "!python hpo.py"
   ]
  },
  {
   "cell_type": "code",
   "execution_count": 14,
   "metadata": {},
   "outputs": [],
   "source": [
    "from mlflow.tracking import MlflowClient\n",
    "client = MlflowClient(tracking_uri='http://127.0.0.1:5000')"
   ]
  },
  {
   "cell_type": "code",
   "execution_count": 15,
   "metadata": {},
   "outputs": [],
   "source": [
    "runs = client.search_runs(experiment_ids=1, max_results=5, order_by=['metrics.rmse ASC'])"
   ]
  },
  {
   "cell_type": "code",
   "execution_count": 17,
   "metadata": {},
   "outputs": [],
   "source": [
    "#runs"
   ]
  },
  {
   "cell_type": "code",
   "execution_count": 18,
   "metadata": {},
   "outputs": [
    {
     "name": "stdout",
     "output_type": "stream",
     "text": [
      "run id: 87c4560f6d944f0a83db6f2d40e55790, rmse: 6.6284\n",
      "run id: 1abc983c57f946f8985d45da3bd9947e, rmse: 6.6297\n",
      "run id: 33dcf2c75d3f4aac9aff2cd50e2e9ccd, rmse: 6.6299\n",
      "run id: 65c392e5959e4f829630d6b5f2230511, rmse: 6.6299\n",
      "run id: 300deb7ea310459282d56a9abe100fc8, rmse: 6.6299\n"
     ]
    }
   ],
   "source": [
    "for run in runs:\n",
    "    print(f\"run id: {run.info.run_uuid}, rmse: {run.data.metrics['rmse']:.4f}\")"
   ]
  },
  {
   "cell_type": "markdown",
   "metadata": {},
   "source": [
    "### Run the final register_model.py"
   ]
  },
  {
   "cell_type": "code",
   "execution_count": 21,
   "metadata": {},
   "outputs": [
    {
     "name": "stdout",
     "output_type": "stream",
     "text": [
      "2022/06/02 23:27:43 WARNING mlflow.utils.autologging_utils: MLflow autologging encountered a warning: \"/Users/hsuyab/miniconda3/envs/mlops/lib/python3.8/site-packages/_distutils_hack/__init__.py:30: UserWarning: Setuptools is replacing distutils.\"\n",
      "Successfully registered model 'random-forest-best-model'.\n",
      "2022/06/02 23:28:40 INFO mlflow.tracking._model_registry.client: Waiting up to 300 seconds for model version to finish creation.                     Model name: random-forest-best-model, version 1\n",
      "Created version '1' of model 'random-forest-best-model'.\n"
     ]
    }
   ],
   "source": [
    "!python register_model.py"
   ]
  },
  {
   "cell_type": "code",
   "execution_count": 26,
   "metadata": {},
   "outputs": [],
   "source": [
    "runs = client.search_runs(experiment_ids=2, max_results=5, order_by=['metrics.test_rmse ASC'])"
   ]
  },
  {
   "cell_type": "code",
   "execution_count": 27,
   "metadata": {},
   "outputs": [
    {
     "name": "stdout",
     "output_type": "stream",
     "text": [
      "run id: e598924ce4584d128728b590fd0fa2cc, rmse: 6.5479\n",
      "run id: f84460d2b23f45c1866a85f269febb72, rmse: 6.5489\n",
      "run id: 8db222bcf5754db78faa3ee708bc94a7, rmse: 6.5491\n",
      "run id: fef1ec2b3f954477bc42275f576cd3ad, rmse: 6.5491\n",
      "run id: e21813776e784119a58a49fdff88325b, rmse: 6.5498\n"
     ]
    }
   ],
   "source": [
    "for run in runs:\n",
    "    print(f\"run id: {run.info.run_uuid}, rmse: {run.data.metrics['test_rmse']:.4f}\")"
   ]
  },
  {
   "cell_type": "code",
   "execution_count": 32,
   "metadata": {},
   "outputs": [
    {
     "name": "stdout",
     "output_type": "stream",
     "text": [
      "test rmse is: 6.55\n"
     ]
    }
   ],
   "source": [
    "print(f\"test rmse is: {runs[0].data.metrics['test_rmse']:.2f}\")"
   ]
  },
  {
   "cell_type": "code",
   "execution_count": null,
   "metadata": {},
   "outputs": [],
   "source": []
  }
 ],
 "metadata": {
  "language_info": {
   "name": "python"
  },
  "orig_nbformat": 4
 },
 "nbformat": 4,
 "nbformat_minor": 2
}
