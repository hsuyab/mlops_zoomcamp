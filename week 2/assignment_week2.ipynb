{
 "cells": [
  {
   "cell_type": "code",
   "execution_count": 1,
   "metadata": {},
   "outputs": [],
   "source": [
    "import mlflow\n",
    "import os\n",
    "import pickle"
   ]
  },
  {
   "cell_type": "code",
   "execution_count": 2,
   "metadata": {},
   "outputs": [
    {
     "data": {
      "text/plain": [
       "<Experiment: artifact_location='/Users/hsuyab/Documents/programming/work_related/mlops_zoomcap/week2_new/artifact/1', experiment_id='1', lifecycle_stage='active', name='nyc-taxi-regression-assignment', tags={}>"
      ]
     },
     "execution_count": 2,
     "metadata": {},
     "output_type": "execute_result"
    }
   ],
   "source": [
    "\n",
    "mlflow.set_tracking_uri('http://127.0.0.1:5000')\n",
    "mlflow.set_experiment(\"nyc-taxi-regression-assignment\")"
   ]
  },
  {
   "cell_type": "markdown",
   "metadata": {},
   "source": [
    "## Question1: mlflow version"
   ]
  },
  {
   "cell_type": "code",
   "execution_count": 3,
   "metadata": {},
   "outputs": [
    {
     "name": "stdout",
     "output_type": "stream",
     "text": [
      "mlflow verion: 1.26.1\n"
     ]
    }
   ],
   "source": [
    "print('mlflow verion:', mlflow.__version__)"
   ]
  },
  {
   "cell_type": "markdown",
   "metadata": {},
   "source": [
    "## Question2: Download and preprocess the data"
   ]
  },
  {
   "cell_type": "markdown",
   "metadata": {},
   "source": [
    "#### Preprocessing the data"
   ]
  },
  {
   "cell_type": "code",
   "execution_count": 4,
   "metadata": {},
   "outputs": [],
   "source": [
    "!python preprocess_data.py --raw_data_path ./data --dest_path ./output\n"
   ]
  },
  {
   "cell_type": "code",
   "execution_count": 5,
   "metadata": {},
   "outputs": [
    {
     "name": "stdout",
     "output_type": "stream",
     "text": [
      "total 18328\n",
      "-rw-r--r--  1 hsuyab  staff   305256 Jun  2 21:56 dv.pkl\n",
      "-rw-r--r--  1 hsuyab  staff  2805197 Jun  2 21:56 test.pkl\n",
      "-rw-r--r--  1 hsuyab  staff  2661149 Jun  2 21:56 train.pkl\n",
      "-rw-r--r--  1 hsuyab  staff  2166527 Jun  2 21:56 valid.pkl\n"
     ]
    }
   ],
   "source": [
    "!ls -l ./output"
   ]
  },
  {
   "cell_type": "code",
   "execution_count": 6,
   "metadata": {},
   "outputs": [
    {
     "name": "stdout",
     "output_type": "stream",
     "text": [
      "Number of files saved in output folder: 4\n"
     ]
    }
   ],
   "source": [
    "print('Number of files saved in output folder:', len(os.listdir('./output')))"
   ]
  },
  {
   "cell_type": "markdown",
   "metadata": {},
   "source": [
    "### Training a model with autolog"
   ]
  },
  {
   "cell_type": "code",
   "execution_count": 7,
   "metadata": {},
   "outputs": [
    {
     "name": "stdout",
     "output_type": "stream",
     "text": [
      "2022/06/02 21:57:01 WARNING mlflow.utils.autologging_utils: MLflow autologging encountered a warning: \"/Users/hsuyab/miniconda3/envs/mlops/lib/python3.8/site-packages/_distutils_hack/__init__.py:30: UserWarning: Setuptools is replacing distutils.\"\n"
     ]
    }
   ],
   "source": [
    "!python train.py"
   ]
  },
  {
   "cell_type": "markdown",
   "metadata": {},
   "source": [
    "### Run hpo"
   ]
  },
  {
   "cell_type": "code",
   "execution_count": 25,
   "metadata": {},
   "outputs": [
    {
     "name": "stdout",
     "output_type": "stream",
     "text": [
      "2022/06/02 22:39:34 INFO mlflow.tracking.fluent: Experiment with name 'random-forest-hyperopt' does not exist. Creating a new experiment.\n",
      "100%|█████████| 50/50 [04:44<00:00,  5.70s/trial, best loss: 6.6284257482044735]\n"
     ]
    }
   ],
   "source": [
    "!python hpo.py"
   ]
  },
  {
   "cell_type": "code",
   "execution_count": 26,
   "metadata": {},
   "outputs": [],
   "source": [
    "from mlflow.tracking import MlflowClient\n",
    "client = MlflowClient(tracking_uri='http://127.0.0.1:5000')"
   ]
  },
  {
   "cell_type": "code",
   "execution_count": 34,
   "metadata": {},
   "outputs": [],
   "source": [
    "runs = client.search_runs(experiment_ids=1, max_results=5, order_by=['metrics.rmse ASC'])"
   ]
  },
  {
   "cell_type": "code",
   "execution_count": 35,
   "metadata": {},
   "outputs": [
    {
     "name": "stdout",
     "output_type": "stream",
     "text": [
      "run id: 87c4560f6d944f0a83db6f2d40e55790, rmse: 6.6284\n",
      "run id: 1abc983c57f946f8985d45da3bd9947e, rmse: 6.6297\n",
      "run id: 33dcf2c75d3f4aac9aff2cd50e2e9ccd, rmse: 6.6299\n",
      "run id: 65c392e5959e4f829630d6b5f2230511, rmse: 6.6299\n",
      "run id: 300deb7ea310459282d56a9abe100fc8, rmse: 6.6299\n"
     ]
    }
   ],
   "source": [
    "for run in runs:\n",
    "    print(f\"run id: {run.info.run_uuid}, rmse: {run.data.metrics['rmse']:.4f}\")"
   ]
  },
  {
   "cell_type": "markdown",
   "metadata": {},
   "source": [
    "### Run the final register_model.py"
   ]
  },
  {
   "cell_type": "code",
   "execution_count": 29,
   "metadata": {},
   "outputs": [
    {
     "name": "stdout",
     "output_type": "stream",
     "text": [
      "2022/06/02 22:44:36 INFO mlflow.tracking.fluent: Experiment with name 'random-forest-best-models' does not exist. Creating a new experiment.\n",
      "2022/06/02 22:44:48 WARNING mlflow.utils.autologging_utils: MLflow autologging encountered a warning: \"/Users/hsuyab/miniconda3/envs/mlops/lib/python3.8/site-packages/_distutils_hack/__init__.py:30: UserWarning: Setuptools is replacing distutils.\"\n",
      "Traceback (most recent call last):\n",
      "  File \"register_model.py\", line 98, in <module>\n",
      "    run(args.data_path, args.top_n)\n",
      "  File \"register_model.py\", line 76, in run\n",
      "    mlflow.register_model(\n",
      "TypeError: register_model() got an unexpected keyword argument 'registered_model_name'\n"
     ]
    }
   ],
   "source": [
    "!python register_model.py"
   ]
  },
  {
   "cell_type": "code",
   "execution_count": null,
   "metadata": {},
   "outputs": [],
   "source": []
  }
 ],
 "metadata": {
  "language_info": {
   "name": "python"
  },
  "orig_nbformat": 4
 },
 "nbformat": 4,
 "nbformat_minor": 2
}
